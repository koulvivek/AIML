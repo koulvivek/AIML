{
  "nbformat": 4,
  "nbformat_minor": 0,
  "metadata": {
    "colab": {
      "name": "Twitter US Airline Sentiment.ipynb",
      "provenance": [],
      "authorship_tag": "ABX9TyNPiTO8r5hbbScXEYCrrRt5",
      "include_colab_link": true
    },
    "kernelspec": {
      "name": "python3",
      "display_name": "Python 3"
    },
    "accelerator": "GPU"
  },
  "cells": [
    {
      "cell_type": "markdown",
      "metadata": {
        "id": "view-in-github",
        "colab_type": "text"
      },
      "source": [
        "<a href=\"https://colab.research.google.com/github/koulvivek/AIML/blob/master/Twitter_US_Airline_Sentiment.ipynb\" target=\"_parent\"><img src=\"https://colab.research.google.com/assets/colab-badge.svg\" alt=\"Open In Colab\"/></a>"
      ]
    },
    {
      "cell_type": "markdown",
      "metadata": {
        "id": "yryqTwrEKTv6"
      },
      "source": [
        "Description:Twitter US Airline SentimentData Description:\n",
        "\n",
        "A sentiment analysis job about the problems of each major U.S. airline. Twitter data was scraped from February of 2015 and contributors were asked to first classify positive, negative, and neutral tweets, followed by categorizing negative reasons (such as \"late flight\" or \"rude service\")."
      ]
    },
    {
      "cell_type": "code",
      "metadata": {
        "colab": {
          "base_uri": "https://localhost:8080/"
        },
        "id": "m_yNj4rGKSFE",
        "outputId": "0d60eca3-7012-4b8c-b6b6-2fc22ac9808f"
      },
      "source": [
        "# Import Libraries \n",
        "\n",
        "# For notebook plotting\n",
        "%matplotlib inline\n",
        "\n",
        "# Standard packages\n",
        "import os\n",
        "import numpy as np\n",
        "import pandas as pd\n",
        "import matplotlib.pyplot as plt\n",
        "\n",
        "# import pickle\n",
        "# import sqlite3\n",
        "\n",
        "# nltk for preprocessing of text data\n",
        "import nltk\n",
        "nltk.download('stopwords')\n",
        "nltk.download('punkt')\n",
        "from nltk.tokenize import sent_tokenize, word_tokenize\n",
        "from nltk.corpus import stopwords\n",
        "from nltk.stem.snowball import SnowballStemmer\n",
        "\n",
        "# sklearn for preprocessing and machine learning models\n",
        "from sklearn.model_selection import train_test_split\n",
        "from sklearn.model_selection import GridSearchCV\n",
        "from sklearn.naive_bayes import MultinomialNB\n",
        "from sklearn.tree import DecisionTreeClassifier\n",
        "from sklearn.ensemble import RandomForestClassifier\n",
        "from sklearn.ensemble import GradientBoostingClassifier\n",
        "\n",
        "from sklearn.utils import shuffle\n",
        "from sklearn.preprocessing import OneHotEncoder\n",
        "from sklearn.feature_extraction.text import TfidfVectorizer\n",
        "from sklearn.feature_extraction.text import CountVectorizer \n",
        "# XGBoost for Machine Learning (Gradient Boosting Machine (GBM))\n",
        "import xgboost as xgb\n",
        "\n",
        "# Keras for neural networks\n",
        "import keras\n",
        "from keras.models import Sequential\n",
        "from keras.layers import Dense, Dropout, BatchNormalization\n",
        "from keras.layers import Flatten\n",
        "from keras.layers.embeddings import Embedding\n",
        "from keras.preprocessing import sequence\n",
        "from keras.utils import to_categorical\n",
        "from keras.callbacks import EarlyStopping\n",
        "\n",
        "from sklearn.metrics import accuracy_score,classification_report, recall_score, precision_score\n",
        "from sklearn.metrics import confusion_matrix,mean_absolute_error,mean_squared_error, f1_score\n",
        "from google.colab.patches import cv2_imshow\n",
        "from google.colab import drive\n",
        "drive.mount('/content/drive')"
      ],
      "execution_count": 5,
      "outputs": [
        {
          "output_type": "stream",
          "text": [
            "[nltk_data] Downloading package stopwords to /root/nltk_data...\n",
            "[nltk_data]   Package stopwords is already up-to-date!\n",
            "[nltk_data] Downloading package punkt to /root/nltk_data...\n",
            "[nltk_data]   Package punkt is already up-to-date!\n",
            "Drive already mounted at /content/drive; to attempt to forcibly remount, call drive.mount(\"/content/drive\", force_remount=True).\n"
          ],
          "name": "stdout"
        }
      ]
    },
    {
      "cell_type": "code",
      "metadata": {
        "id": "pTpx4z7HKoml"
      },
      "source": [
        "os.chdir('/content/drive/My Drive/Colab Notebooks/NLP')"
      ],
      "execution_count": 6,
      "outputs": []
    },
    {
      "cell_type": "code",
      "metadata": {
        "colab": {
          "base_uri": "https://localhost:8080/"
        },
        "id": "y1iYbFVUL0A9",
        "outputId": "08277cfc-5146-44b3-fdac-542f1038fa3e"
      },
      "source": [
        "ls -l"
      ],
      "execution_count": 7,
      "outputs": [
        {
          "output_type": "stream",
          "text": [
            "total 3441\n",
            "-rw------- 1 root root 3421431 Dec  5 18:24  Tweets.csv\n",
            "-rw------- 1 root root  101261 Dec 11 21:11 'Twitter US Airline Sentiment.ipynb'\n"
          ],
          "name": "stdout"
        }
      ]
    },
    {
      "cell_type": "code",
      "metadata": {
        "colab": {
          "base_uri": "https://localhost:8080/",
          "height": 445
        },
        "id": "MuXmPCpiL2xY",
        "outputId": "aabf2cb4-e1f2-4ad4-9937-cad7ddbff1a9"
      },
      "source": [
        "\n",
        "# Read the dataset\n",
        "\n",
        "df= pd.read_csv('Tweets.csv')\n",
        "df.head(5)"
      ],
      "execution_count": 8,
      "outputs": [
        {
          "output_type": "execute_result",
          "data": {
            "text/html": [
              "<div>\n",
              "<style scoped>\n",
              "    .dataframe tbody tr th:only-of-type {\n",
              "        vertical-align: middle;\n",
              "    }\n",
              "\n",
              "    .dataframe tbody tr th {\n",
              "        vertical-align: top;\n",
              "    }\n",
              "\n",
              "    .dataframe thead th {\n",
              "        text-align: right;\n",
              "    }\n",
              "</style>\n",
              "<table border=\"1\" class=\"dataframe\">\n",
              "  <thead>\n",
              "    <tr style=\"text-align: right;\">\n",
              "      <th></th>\n",
              "      <th>tweet_id</th>\n",
              "      <th>airline_sentiment</th>\n",
              "      <th>airline_sentiment_confidence</th>\n",
              "      <th>negativereason</th>\n",
              "      <th>negativereason_confidence</th>\n",
              "      <th>airline</th>\n",
              "      <th>airline_sentiment_gold</th>\n",
              "      <th>name</th>\n",
              "      <th>negativereason_gold</th>\n",
              "      <th>retweet_count</th>\n",
              "      <th>text</th>\n",
              "      <th>tweet_coord</th>\n",
              "      <th>tweet_created</th>\n",
              "      <th>tweet_location</th>\n",
              "      <th>user_timezone</th>\n",
              "    </tr>\n",
              "  </thead>\n",
              "  <tbody>\n",
              "    <tr>\n",
              "      <th>0</th>\n",
              "      <td>570306133677760513</td>\n",
              "      <td>neutral</td>\n",
              "      <td>1.0000</td>\n",
              "      <td>NaN</td>\n",
              "      <td>NaN</td>\n",
              "      <td>Virgin America</td>\n",
              "      <td>NaN</td>\n",
              "      <td>cairdin</td>\n",
              "      <td>NaN</td>\n",
              "      <td>0</td>\n",
              "      <td>@VirginAmerica What @dhepburn said.</td>\n",
              "      <td>NaN</td>\n",
              "      <td>2015-02-24 11:35:52 -0800</td>\n",
              "      <td>NaN</td>\n",
              "      <td>Eastern Time (US &amp; Canada)</td>\n",
              "    </tr>\n",
              "    <tr>\n",
              "      <th>1</th>\n",
              "      <td>570301130888122368</td>\n",
              "      <td>positive</td>\n",
              "      <td>0.3486</td>\n",
              "      <td>NaN</td>\n",
              "      <td>0.0000</td>\n",
              "      <td>Virgin America</td>\n",
              "      <td>NaN</td>\n",
              "      <td>jnardino</td>\n",
              "      <td>NaN</td>\n",
              "      <td>0</td>\n",
              "      <td>@VirginAmerica plus you've added commercials t...</td>\n",
              "      <td>NaN</td>\n",
              "      <td>2015-02-24 11:15:59 -0800</td>\n",
              "      <td>NaN</td>\n",
              "      <td>Pacific Time (US &amp; Canada)</td>\n",
              "    </tr>\n",
              "    <tr>\n",
              "      <th>2</th>\n",
              "      <td>570301083672813571</td>\n",
              "      <td>neutral</td>\n",
              "      <td>0.6837</td>\n",
              "      <td>NaN</td>\n",
              "      <td>NaN</td>\n",
              "      <td>Virgin America</td>\n",
              "      <td>NaN</td>\n",
              "      <td>yvonnalynn</td>\n",
              "      <td>NaN</td>\n",
              "      <td>0</td>\n",
              "      <td>@VirginAmerica I didn't today... Must mean I n...</td>\n",
              "      <td>NaN</td>\n",
              "      <td>2015-02-24 11:15:48 -0800</td>\n",
              "      <td>Lets Play</td>\n",
              "      <td>Central Time (US &amp; Canada)</td>\n",
              "    </tr>\n",
              "    <tr>\n",
              "      <th>3</th>\n",
              "      <td>570301031407624196</td>\n",
              "      <td>negative</td>\n",
              "      <td>1.0000</td>\n",
              "      <td>Bad Flight</td>\n",
              "      <td>0.7033</td>\n",
              "      <td>Virgin America</td>\n",
              "      <td>NaN</td>\n",
              "      <td>jnardino</td>\n",
              "      <td>NaN</td>\n",
              "      <td>0</td>\n",
              "      <td>@VirginAmerica it's really aggressive to blast...</td>\n",
              "      <td>NaN</td>\n",
              "      <td>2015-02-24 11:15:36 -0800</td>\n",
              "      <td>NaN</td>\n",
              "      <td>Pacific Time (US &amp; Canada)</td>\n",
              "    </tr>\n",
              "    <tr>\n",
              "      <th>4</th>\n",
              "      <td>570300817074462722</td>\n",
              "      <td>negative</td>\n",
              "      <td>1.0000</td>\n",
              "      <td>Can't Tell</td>\n",
              "      <td>1.0000</td>\n",
              "      <td>Virgin America</td>\n",
              "      <td>NaN</td>\n",
              "      <td>jnardino</td>\n",
              "      <td>NaN</td>\n",
              "      <td>0</td>\n",
              "      <td>@VirginAmerica and it's a really big bad thing...</td>\n",
              "      <td>NaN</td>\n",
              "      <td>2015-02-24 11:14:45 -0800</td>\n",
              "      <td>NaN</td>\n",
              "      <td>Pacific Time (US &amp; Canada)</td>\n",
              "    </tr>\n",
              "  </tbody>\n",
              "</table>\n",
              "</div>"
            ],
            "text/plain": [
              "             tweet_id  ...               user_timezone\n",
              "0  570306133677760513  ...  Eastern Time (US & Canada)\n",
              "1  570301130888122368  ...  Pacific Time (US & Canada)\n",
              "2  570301083672813571  ...  Central Time (US & Canada)\n",
              "3  570301031407624196  ...  Pacific Time (US & Canada)\n",
              "4  570300817074462722  ...  Pacific Time (US & Canada)\n",
              "\n",
              "[5 rows x 15 columns]"
            ]
          },
          "metadata": {
            "tags": []
          },
          "execution_count": 8
        }
      ]
    },
    {
      "cell_type": "code",
      "metadata": {
        "colab": {
          "base_uri": "https://localhost:8080/"
        },
        "id": "5nVMsxAIMD_Y",
        "outputId": "e635114e-2ca2-4615-dc00-6b54e8460635"
      },
      "source": [
        "# see  column or attribute names in df \n",
        "df.columns"
      ],
      "execution_count": 9,
      "outputs": [
        {
          "output_type": "execute_result",
          "data": {
            "text/plain": [
              "Index(['tweet_id', 'airline_sentiment', 'airline_sentiment_confidence',\n",
              "       'negativereason', 'negativereason_confidence', 'airline',\n",
              "       'airline_sentiment_gold', 'name', 'negativereason_gold',\n",
              "       'retweet_count', 'text', 'tweet_coord', 'tweet_created',\n",
              "       'tweet_location', 'user_timezone'],\n",
              "      dtype='object')"
            ]
          },
          "metadata": {
            "tags": []
          },
          "execution_count": 9
        }
      ]
    },
    {
      "cell_type": "markdown",
      "metadata": {
        "id": "UA2sYYi6MXzG"
      },
      "source": [
        "Data Preprocessing\n",
        "The first step should be to check the shape of the dataframe and then check the number of null values in each column.\n",
        "\n",
        "In this way we can get an idea of the redundant columns in the data frame depending on which columns have the highest number of null values."
      ]
    },
    {
      "cell_type": "code",
      "metadata": {
        "colab": {
          "base_uri": "https://localhost:8080/"
        },
        "id": "djjBnwMtMaSE",
        "outputId": "4fc5b346-b87c-4944-f043-93031920d99f"
      },
      "source": [
        "print(\"Shape of the dataframe is\",df.shape)\n",
        "print(\"The number of nulls in each column are \\n\", df.isna().sum())"
      ],
      "execution_count": 10,
      "outputs": [
        {
          "output_type": "stream",
          "text": [
            "Shape of the dataframe is (14640, 15)\n",
            "The number of nulls in each column are \n",
            " tweet_id                            0\n",
            "airline_sentiment                   0\n",
            "airline_sentiment_confidence        0\n",
            "negativereason                   5462\n",
            "negativereason_confidence        4118\n",
            "airline                             0\n",
            "airline_sentiment_gold          14600\n",
            "name                                0\n",
            "negativereason_gold             14608\n",
            "retweet_count                       0\n",
            "text                                0\n",
            "tweet_coord                     13621\n",
            "tweet_created                       0\n",
            "tweet_location                   4733\n",
            "user_timezone                    4820\n",
            "dtype: int64\n"
          ],
          "name": "stdout"
        }
      ]
    },
    {
      "cell_type": "code",
      "metadata": {
        "colab": {
          "base_uri": "https://localhost:8080/"
        },
        "id": "QgZDoFYPMiGd",
        "outputId": "20c33ed8-eac9-4965-8778-a8815981a2df"
      },
      "source": [
        "# calculate the percentage of nulls or NA values in each column\n",
        "\n",
        "print(\"Percentage  of null or na values in the dataframe(df)\")\n",
        "((df.isnull() | df.isna()).sum() * 100 / df.index.size).round(2)"
      ],
      "execution_count": 11,
      "outputs": [
        {
          "output_type": "stream",
          "text": [
            "Percentage  of null or na values in the dataframe(df)\n"
          ],
          "name": "stdout"
        },
        {
          "output_type": "execute_result",
          "data": {
            "text/plain": [
              "tweet_id                         0.00\n",
              "airline_sentiment                0.00\n",
              "airline_sentiment_confidence     0.00\n",
              "negativereason                  37.31\n",
              "negativereason_confidence       28.13\n",
              "airline                          0.00\n",
              "airline_sentiment_gold          99.73\n",
              "name                             0.00\n",
              "negativereason_gold             99.78\n",
              "retweet_count                    0.00\n",
              "text                             0.00\n",
              "tweet_coord                     93.04\n",
              "tweet_created                    0.00\n",
              "tweet_location                  32.33\n",
              "user_timezone                   32.92\n",
              "dtype: float64"
            ]
          },
          "metadata": {
            "tags": []
          },
          "execution_count": 11
        }
      ]
    },
    {
      "cell_type": "markdown",
      "metadata": {
        "id": "KDsn17ySMyT9"
      },
      "source": [
        "tweet_coord , airline_sentiment_gold, negativereason_gold have more than 90% missing data. It will be better to delete these columns as they will not provide any constructive information."
      ]
    },
    {
      "cell_type": "code",
      "metadata": {
        "colab": {
          "base_uri": "https://localhost:8080/",
          "height": 445
        },
        "id": "uASZIrJgMzEB",
        "outputId": "314532fd-b051-4827-843f-c93b1034b755"
      },
      "source": [
        "del df['tweet_coord']\n",
        "del df['airline_sentiment_gold']\n",
        "del df['negativereason_gold']\n",
        "df.head()"
      ],
      "execution_count": 12,
      "outputs": [
        {
          "output_type": "execute_result",
          "data": {
            "text/html": [
              "<div>\n",
              "<style scoped>\n",
              "    .dataframe tbody tr th:only-of-type {\n",
              "        vertical-align: middle;\n",
              "    }\n",
              "\n",
              "    .dataframe tbody tr th {\n",
              "        vertical-align: top;\n",
              "    }\n",
              "\n",
              "    .dataframe thead th {\n",
              "        text-align: right;\n",
              "    }\n",
              "</style>\n",
              "<table border=\"1\" class=\"dataframe\">\n",
              "  <thead>\n",
              "    <tr style=\"text-align: right;\">\n",
              "      <th></th>\n",
              "      <th>tweet_id</th>\n",
              "      <th>airline_sentiment</th>\n",
              "      <th>airline_sentiment_confidence</th>\n",
              "      <th>negativereason</th>\n",
              "      <th>negativereason_confidence</th>\n",
              "      <th>airline</th>\n",
              "      <th>name</th>\n",
              "      <th>retweet_count</th>\n",
              "      <th>text</th>\n",
              "      <th>tweet_created</th>\n",
              "      <th>tweet_location</th>\n",
              "      <th>user_timezone</th>\n",
              "    </tr>\n",
              "  </thead>\n",
              "  <tbody>\n",
              "    <tr>\n",
              "      <th>0</th>\n",
              "      <td>570306133677760513</td>\n",
              "      <td>neutral</td>\n",
              "      <td>1.0000</td>\n",
              "      <td>NaN</td>\n",
              "      <td>NaN</td>\n",
              "      <td>Virgin America</td>\n",
              "      <td>cairdin</td>\n",
              "      <td>0</td>\n",
              "      <td>@VirginAmerica What @dhepburn said.</td>\n",
              "      <td>2015-02-24 11:35:52 -0800</td>\n",
              "      <td>NaN</td>\n",
              "      <td>Eastern Time (US &amp; Canada)</td>\n",
              "    </tr>\n",
              "    <tr>\n",
              "      <th>1</th>\n",
              "      <td>570301130888122368</td>\n",
              "      <td>positive</td>\n",
              "      <td>0.3486</td>\n",
              "      <td>NaN</td>\n",
              "      <td>0.0000</td>\n",
              "      <td>Virgin America</td>\n",
              "      <td>jnardino</td>\n",
              "      <td>0</td>\n",
              "      <td>@VirginAmerica plus you've added commercials t...</td>\n",
              "      <td>2015-02-24 11:15:59 -0800</td>\n",
              "      <td>NaN</td>\n",
              "      <td>Pacific Time (US &amp; Canada)</td>\n",
              "    </tr>\n",
              "    <tr>\n",
              "      <th>2</th>\n",
              "      <td>570301083672813571</td>\n",
              "      <td>neutral</td>\n",
              "      <td>0.6837</td>\n",
              "      <td>NaN</td>\n",
              "      <td>NaN</td>\n",
              "      <td>Virgin America</td>\n",
              "      <td>yvonnalynn</td>\n",
              "      <td>0</td>\n",
              "      <td>@VirginAmerica I didn't today... Must mean I n...</td>\n",
              "      <td>2015-02-24 11:15:48 -0800</td>\n",
              "      <td>Lets Play</td>\n",
              "      <td>Central Time (US &amp; Canada)</td>\n",
              "    </tr>\n",
              "    <tr>\n",
              "      <th>3</th>\n",
              "      <td>570301031407624196</td>\n",
              "      <td>negative</td>\n",
              "      <td>1.0000</td>\n",
              "      <td>Bad Flight</td>\n",
              "      <td>0.7033</td>\n",
              "      <td>Virgin America</td>\n",
              "      <td>jnardino</td>\n",
              "      <td>0</td>\n",
              "      <td>@VirginAmerica it's really aggressive to blast...</td>\n",
              "      <td>2015-02-24 11:15:36 -0800</td>\n",
              "      <td>NaN</td>\n",
              "      <td>Pacific Time (US &amp; Canada)</td>\n",
              "    </tr>\n",
              "    <tr>\n",
              "      <th>4</th>\n",
              "      <td>570300817074462722</td>\n",
              "      <td>negative</td>\n",
              "      <td>1.0000</td>\n",
              "      <td>Can't Tell</td>\n",
              "      <td>1.0000</td>\n",
              "      <td>Virgin America</td>\n",
              "      <td>jnardino</td>\n",
              "      <td>0</td>\n",
              "      <td>@VirginAmerica and it's a really big bad thing...</td>\n",
              "      <td>2015-02-24 11:14:45 -0800</td>\n",
              "      <td>NaN</td>\n",
              "      <td>Pacific Time (US &amp; Canada)</td>\n",
              "    </tr>\n",
              "  </tbody>\n",
              "</table>\n",
              "</div>"
            ],
            "text/plain": [
              "             tweet_id  ...               user_timezone\n",
              "0  570306133677760513  ...  Eastern Time (US & Canada)\n",
              "1  570301130888122368  ...  Pacific Time (US & Canada)\n",
              "2  570301083672813571  ...  Central Time (US & Canada)\n",
              "3  570301031407624196  ...  Pacific Time (US & Canada)\n",
              "4  570300817074462722  ...  Pacific Time (US & Canada)\n",
              "\n",
              "[5 rows x 12 columns]"
            ]
          },
          "metadata": {
            "tags": []
          },
          "execution_count": 12
        }
      ]
    },
    {
      "cell_type": "code",
      "metadata": {
        "colab": {
          "base_uri": "https://localhost:8080/",
          "height": 221
        },
        "id": "vsR5rGF_M3Xp",
        "outputId": "e239eb2d-4c21-4713-d3dc-5092a989b40a"
      },
      "source": [
        "# Select features or only required colums as per assignment\n",
        "\n",
        "df_feature = df[['text', 'airline_sentiment']]\n",
        "print('Feature selected DataFrame:')\n",
        "df_feature.head(5)"
      ],
      "execution_count": 13,
      "outputs": [
        {
          "output_type": "stream",
          "text": [
            "Feature selected DataFrame:\n"
          ],
          "name": "stdout"
        },
        {
          "output_type": "execute_result",
          "data": {
            "text/html": [
              "<div>\n",
              "<style scoped>\n",
              "    .dataframe tbody tr th:only-of-type {\n",
              "        vertical-align: middle;\n",
              "    }\n",
              "\n",
              "    .dataframe tbody tr th {\n",
              "        vertical-align: top;\n",
              "    }\n",
              "\n",
              "    .dataframe thead th {\n",
              "        text-align: right;\n",
              "    }\n",
              "</style>\n",
              "<table border=\"1\" class=\"dataframe\">\n",
              "  <thead>\n",
              "    <tr style=\"text-align: right;\">\n",
              "      <th></th>\n",
              "      <th>text</th>\n",
              "      <th>airline_sentiment</th>\n",
              "    </tr>\n",
              "  </thead>\n",
              "  <tbody>\n",
              "    <tr>\n",
              "      <th>0</th>\n",
              "      <td>@VirginAmerica What @dhepburn said.</td>\n",
              "      <td>neutral</td>\n",
              "    </tr>\n",
              "    <tr>\n",
              "      <th>1</th>\n",
              "      <td>@VirginAmerica plus you've added commercials t...</td>\n",
              "      <td>positive</td>\n",
              "    </tr>\n",
              "    <tr>\n",
              "      <th>2</th>\n",
              "      <td>@VirginAmerica I didn't today... Must mean I n...</td>\n",
              "      <td>neutral</td>\n",
              "    </tr>\n",
              "    <tr>\n",
              "      <th>3</th>\n",
              "      <td>@VirginAmerica it's really aggressive to blast...</td>\n",
              "      <td>negative</td>\n",
              "    </tr>\n",
              "    <tr>\n",
              "      <th>4</th>\n",
              "      <td>@VirginAmerica and it's a really big bad thing...</td>\n",
              "      <td>negative</td>\n",
              "    </tr>\n",
              "  </tbody>\n",
              "</table>\n",
              "</div>"
            ],
            "text/plain": [
              "                                                text airline_sentiment\n",
              "0                @VirginAmerica What @dhepburn said.           neutral\n",
              "1  @VirginAmerica plus you've added commercials t...          positive\n",
              "2  @VirginAmerica I didn't today... Must mean I n...           neutral\n",
              "3  @VirginAmerica it's really aggressive to blast...          negative\n",
              "4  @VirginAmerica and it's a really big bad thing...          negative"
            ]
          },
          "metadata": {
            "tags": []
          },
          "execution_count": 13
        }
      ]
    },
    {
      "cell_type": "code",
      "metadata": {
        "colab": {
          "base_uri": "https://localhost:8080/"
        },
        "id": "EooQMf-VNGaW",
        "outputId": "a18a834d-a78e-42f1-b335-8561715a7eab"
      },
      "source": [
        "df_feature['airline_sentiment'].value_counts()"
      ],
      "execution_count": 14,
      "outputs": [
        {
          "output_type": "execute_result",
          "data": {
            "text/plain": [
              "negative    9178\n",
              "neutral     3099\n",
              "positive    2363\n",
              "Name: airline_sentiment, dtype: int64"
            ]
          },
          "metadata": {
            "tags": []
          },
          "execution_count": 14
        }
      ]
    },
    {
      "cell_type": "code",
      "metadata": {
        "colab": {
          "base_uri": "https://localhost:8080/",
          "height": 651
        },
        "id": "rIS8zJliNOdF",
        "outputId": "026b6fc7-8bd9-40aa-818d-87aa446f952e"
      },
      "source": [
        "# Plot sentiment distribution\n",
        "df['airline_sentiment'].value_counts().plot(kind = 'barh',\n",
        "                                            figsize = (15,10));\n",
        "plt.title('Distribution of airline sentiment ', \n",
        "          fontsize = 26, weight = 'bold')\n",
        "plt.xlabel('Frequency', fontsize = 22)\n",
        "plt.xticks(fontsize = 20)\n",
        "plt.yticks(fontsize = 20);"
      ],
      "execution_count": 15,
      "outputs": [
        {
          "output_type": "display_data",
          "data": {
            "image/png": "[encoded data removed]",
            "text/plain": [
              "<Figure size 1080x720 with 1 Axes>"
            ]
          },
          "metadata": {
            "tags": [],
            "needs_background": "light"
          }
        }
      ]
    },
    {
      "cell_type": "code",
      "metadata": {
        "id": "OR6MuHd0NpWK"
      },
      "source": [
        ""
      ],
      "execution_count": 15,
      "outputs": []
    },
    {
      "cell_type": "markdown",
      "metadata": {
        "id": "1V0rIL6ROVmh"
      },
      "source": [
        " About ~60 percent sentiment is negative.."
      ]
    },
    {
      "cell_type": "markdown",
      "metadata": {
        "id": "MDo7FHx8Oleo"
      },
      "source": [
        "Pre processing"
      ]
    },
    {
      "cell_type": "markdown",
      "metadata": {
        "id": "cI_X3wy6R-Zl"
      },
      "source": [
        "I was trying to look for refrences to create a common component for Pre-processing..\n",
        "Created a preprocessor class to perform all steps that need to be performed before the text data can be vectorized.This class will do the below:\n",
        "Tokenization \n",
        "Removing stop words \n",
        "HTML Tag removal \n",
        "Lower case conversion\n",
        "Stemming \n",
        "Transform the tokens back to one string"
      ]
    },
    {
      "cell_type": "code",
      "metadata": {
        "id": "IM0CdNOwSlrC"
      },
      "source": [
        "class PreProcessor:\n",
        "    '''\n",
        "    Easily performs all the standard preprocessing steps\n",
        "    like removing stopwords, stemming, etc.\n",
        "    Only input that you need to provide is the dataframe and column name for the tweets\n",
        "    '''\n",
        "    def __init__(self, df_feature, column_name):\n",
        "        self.data = df_feature\n",
        "        self.conversations = list(self.data[column_name])\n",
        "        self.stopwords = set(stopwords.words('english'))\n",
        "        self.stemmer = SnowballStemmer(\"english\")\n",
        "        self.preprocessed = []\n",
        "        \n",
        "    def tokenize(self, sentence):\n",
        "        '''\n",
        "        Splits up words and makes a list of all words in the tweet\n",
        "        '''\n",
        "        tokenized_sentence = word_tokenize(sentence)\n",
        "        return tokenized_sentence\n",
        "            \n",
        "    def remove_stopwords(self, sentence):\n",
        "        '''Removes stopwords like 'a', 'the', 'and', etc.'''\n",
        "        filtered_sentence = []\n",
        "        for w in sentence:\n",
        "            if w not in self.stopwords and len(w) > 1 and w[:2] != '//' and w != 'https': \n",
        "                filtered_sentence.append(w)\n",
        "        return filtered_sentence\n",
        "    \n",
        "    def stem(self, sentence):\n",
        "        '''\n",
        "        Stems certain words to their root form.\n",
        "        For example, words like 'computer', 'computation'\n",
        "        all get truncated to 'comput'\n",
        "        '''\n",
        "        return [self.stemmer.stem(word) for word in sentence]\n",
        "    \n",
        "    def join_to_string(self, sentence):\n",
        "        '''\n",
        "        Joins the tokenized words to one string.\n",
        "        '''\n",
        "        return ' '.join(sentence)\n",
        "    \n",
        "    def full_preprocess(self, n_rows=None):\n",
        "        '''\n",
        "        Preprocess a selected number of rows and\n",
        "        connects them back to strings\n",
        "        '''\n",
        "        # If nothing is given do it for the whole dataset\n",
        "        if n_rows == None:\n",
        "            n_rows = len(self.data)\n",
        "            \n",
        "        # Perform preprocessing\n",
        "        for i in range(n_rows):\n",
        "            tweet = self.conversations[i]\n",
        "            tokenized = self.tokenize(tweet)\n",
        "            cleaned = self.remove_stopwords(tokenized)\n",
        "            stemmed = self.stem(cleaned)\n",
        "            joined = self.join_to_string(stemmed)\n",
        "            self.preprocessed.append(joined)\n",
        "        return self.preprocessed"
      ],
      "execution_count": 16,
      "outputs": []
    },
    {
      "cell_type": "code",
      "metadata": {
        "colab": {
          "base_uri": "https://localhost:8080/"
        },
        "id": "Ns-zeqpES9Gf",
        "outputId": "03bdfa0a-da79-4da0-c416-fdcb010f218e"
      },
      "source": [
        "# Preprocess text and put it in a new column\n",
        "preprocessor = PreProcessor(df_feature, 'text')\n",
        "df_feature['cleaned_text'] = preprocessor.full_preprocess()"
      ],
      "execution_count": 17,
      "outputs": [
        {
          "output_type": "stream",
          "text": [
            "/usr/local/lib/python3.6/dist-packages/ipykernel_launcher.py:3: SettingWithCopyWarning: \n",
            "A value is trying to be set on a copy of a slice from a DataFrame.\n",
            "Try using .loc[row_indexer,col_indexer] = value instead\n",
            "\n",
            "See the caveats in the documentation: https://pandas.pydata.org/pandas-docs/stable/user_guide/indexing.html#returning-a-view-versus-a-copy\n",
            "  This is separate from the ipykernel package so we can avoid doing imports until\n"
          ],
          "name": "stderr"
        }
      ]
    },
    {
      "cell_type": "code",
      "metadata": {
        "id": "vZnuIBbYTOrT"
      },
      "source": [
        "del df_feature['text']    # deleted text column"
      ],
      "execution_count": 18,
      "outputs": []
    },
    {
      "cell_type": "code",
      "metadata": {
        "colab": {
          "base_uri": "https://localhost:8080/",
          "height": 419
        },
        "id": "Xe1hDNmHUhzn",
        "outputId": "dc8bc9c7-86d8-4446-a843-82d81d077aef"
      },
      "source": [
        "# after cleaning in the dataframe df_feature\n",
        "df_feature"
      ],
      "execution_count": 19,
      "outputs": [
        {
          "output_type": "execute_result",
          "data": {
            "text/html": [
              "<div>\n",
              "<style scoped>\n",
              "    .dataframe tbody tr th:only-of-type {\n",
              "        vertical-align: middle;\n",
              "    }\n",
              "\n",
              "    .dataframe tbody tr th {\n",
              "        vertical-align: top;\n",
              "    }\n",
              "\n",
              "    .dataframe thead th {\n",
              "        text-align: right;\n",
              "    }\n",
              "</style>\n",
              "<table border=\"1\" class=\"dataframe\">\n",
              "  <thead>\n",
              "    <tr style=\"text-align: right;\">\n",
              "      <th></th>\n",
              "      <th>airline_sentiment</th>\n",
              "      <th>cleaned_text</th>\n",
              "    </tr>\n",
              "  </thead>\n",
              "  <tbody>\n",
              "    <tr>\n",
              "      <th>0</th>\n",
              "      <td>neutral</td>\n",
              "      <td>virginamerica what dhepburn said</td>\n",
              "    </tr>\n",
              "    <tr>\n",
              "      <th>1</th>\n",
              "      <td>positive</td>\n",
              "      <td>virginamerica plus ve ad commerci experi ... t...</td>\n",
              "    </tr>\n",
              "    <tr>\n",
              "      <th>2</th>\n",
              "      <td>neutral</td>\n",
              "      <td>virginamerica n't today ... must mean need tak...</td>\n",
              "    </tr>\n",
              "    <tr>\n",
              "      <th>3</th>\n",
              "      <td>negative</td>\n",
              "      <td>virginamerica 's realli aggress blast obnoxi `...</td>\n",
              "    </tr>\n",
              "    <tr>\n",
              "      <th>4</th>\n",
              "      <td>negative</td>\n",
              "      <td>virginamerica 's realli big bad thing</td>\n",
              "    </tr>\n",
              "    <tr>\n",
              "      <th>...</th>\n",
              "      <td>...</td>\n",
              "      <td>...</td>\n",
              "    </tr>\n",
              "    <tr>\n",
              "      <th>14635</th>\n",
              "      <td>positive</td>\n",
              "      <td>americanair thank got differ flight chicago</td>\n",
              "    </tr>\n",
              "    <tr>\n",
              "      <th>14636</th>\n",
              "      <td>negative</td>\n",
              "      <td>americanair leav 20 minut late flight no warn ...</td>\n",
              "    </tr>\n",
              "    <tr>\n",
              "      <th>14637</th>\n",
              "      <td>neutral</td>\n",
              "      <td>americanair pleas bring american airlin blackb...</td>\n",
              "    </tr>\n",
              "    <tr>\n",
              "      <th>14638</th>\n",
              "      <td>negative</td>\n",
              "      <td>americanair money chang flight n't answer phon...</td>\n",
              "    </tr>\n",
              "    <tr>\n",
              "      <th>14639</th>\n",
              "      <td>neutral</td>\n",
              "      <td>americanair ppl need know mani seat next fligh...</td>\n",
              "    </tr>\n",
              "  </tbody>\n",
              "</table>\n",
              "<p>14640 rows × 2 columns</p>\n",
              "</div>"
            ],
            "text/plain": [
              "      airline_sentiment                                       cleaned_text\n",
              "0               neutral                   virginamerica what dhepburn said\n",
              "1              positive  virginamerica plus ve ad commerci experi ... t...\n",
              "2               neutral  virginamerica n't today ... must mean need tak...\n",
              "3              negative  virginamerica 's realli aggress blast obnoxi `...\n",
              "4              negative              virginamerica 's realli big bad thing\n",
              "...                 ...                                                ...\n",
              "14635          positive        americanair thank got differ flight chicago\n",
              "14636          negative  americanair leav 20 minut late flight no warn ...\n",
              "14637           neutral  americanair pleas bring american airlin blackb...\n",
              "14638          negative  americanair money chang flight n't answer phon...\n",
              "14639           neutral  americanair ppl need know mani seat next fligh...\n",
              "\n",
              "[14640 rows x 2 columns]"
            ]
          },
          "metadata": {
            "tags": []
          },
          "execution_count": 19
        }
      ]
    },
    {
      "cell_type": "markdown",
      "metadata": {
        "id": "DFttU-SuVIl4"
      },
      "source": [
        "Split data into train, validation and test sets"
      ]
    },
    {
      "cell_type": "code",
      "metadata": {
        "colab": {
          "base_uri": "https://localhost:8080/",
          "height": 204
        },
        "id": "XhT9Te3eVK7o",
        "outputId": "7fbfe6a8-ead2-4a55-8518-18c4daa9ee78"
      },
      "source": [
        "df_feature.head()"
      ],
      "execution_count": 20,
      "outputs": [
        {
          "output_type": "execute_result",
          "data": {
            "text/html": [
              "<div>\n",
              "<style scoped>\n",
              "    .dataframe tbody tr th:only-of-type {\n",
              "        vertical-align: middle;\n",
              "    }\n",
              "\n",
              "    .dataframe tbody tr th {\n",
              "        vertical-align: top;\n",
              "    }\n",
              "\n",
              "    .dataframe thead th {\n",
              "        text-align: right;\n",
              "    }\n",
              "</style>\n",
              "<table border=\"1\" class=\"dataframe\">\n",
              "  <thead>\n",
              "    <tr style=\"text-align: right;\">\n",
              "      <th></th>\n",
              "      <th>airline_sentiment</th>\n",
              "      <th>cleaned_text</th>\n",
              "    </tr>\n",
              "  </thead>\n",
              "  <tbody>\n",
              "    <tr>\n",
              "      <th>0</th>\n",
              "      <td>neutral</td>\n",
              "      <td>virginamerica what dhepburn said</td>\n",
              "    </tr>\n",
              "    <tr>\n",
              "      <th>1</th>\n",
              "      <td>positive</td>\n",
              "      <td>virginamerica plus ve ad commerci experi ... t...</td>\n",
              "    </tr>\n",
              "    <tr>\n",
              "      <th>2</th>\n",
              "      <td>neutral</td>\n",
              "      <td>virginamerica n't today ... must mean need tak...</td>\n",
              "    </tr>\n",
              "    <tr>\n",
              "      <th>3</th>\n",
              "      <td>negative</td>\n",
              "      <td>virginamerica 's realli aggress blast obnoxi `...</td>\n",
              "    </tr>\n",
              "    <tr>\n",
              "      <th>4</th>\n",
              "      <td>negative</td>\n",
              "      <td>virginamerica 's realli big bad thing</td>\n",
              "    </tr>\n",
              "  </tbody>\n",
              "</table>\n",
              "</div>"
            ],
            "text/plain": [
              "  airline_sentiment                                       cleaned_text\n",
              "0           neutral                   virginamerica what dhepburn said\n",
              "1          positive  virginamerica plus ve ad commerci experi ... t...\n",
              "2           neutral  virginamerica n't today ... must mean need tak...\n",
              "3          negative  virginamerica 's realli aggress blast obnoxi `...\n",
              "4          negative              virginamerica 's realli big bad thing"
            ]
          },
          "metadata": {
            "tags": []
          },
          "execution_count": 20
        }
      ]
    },
    {
      "cell_type": "code",
      "metadata": {
        "id": "b9piT9bLVS4m"
      },
      "source": [
        "X = df_feature[\"cleaned_text\"]\n",
        "y = df_feature[\"airline_sentiment\"]"
      ],
      "execution_count": 21,
      "outputs": []
    },
    {
      "cell_type": "code",
      "metadata": {
        "colab": {
          "base_uri": "https://localhost:8080/"
        },
        "id": "4g3ghGRwVWUm",
        "outputId": "925cce78-24e9-411d-ce86-ace78beaee9e"
      },
      "source": [
        "# Shape of data \n",
        "print(X.shape)\n",
        "print(y.shape)"
      ],
      "execution_count": 22,
      "outputs": [
        {
          "output_type": "stream",
          "text": [
            "(14640,)\n",
            "(14640,)\n"
          ],
          "name": "stdout"
        }
      ]
    },
    {
      "cell_type": "code",
      "metadata": {
        "id": "e99ONiFLVdI1"
      },
      "source": [
        "# Split 80:20\n",
        "X_train,X_test, y_train, y_test = train_test_split(X, y, test_size=0.2,random_state=42)"
      ],
      "execution_count": 23,
      "outputs": []
    },
    {
      "cell_type": "markdown",
      "metadata": {
        "id": "uF0FGoqIWpbR"
      },
      "source": [
        "## Data vectorization\n",
        "Many machine learning models can only be trained on numerical input in the form of vectors or matrices. To prepare our tweets for the machine learning models we create  (tf-idf) vectorization and CountVectorization. The result of this vectorization is a sparse matrix."
      ]
    },
    {
      "cell_type": "markdown",
      "metadata": {
        "id": "HYcIUq0Y53jY"
      },
      "source": [
        "## using TfidfVectorizer first "
      ]
    },
    {
      "cell_type": "code",
      "metadata": {
        "id": "nwAlvonNW1Ux"
      },
      "source": [
        "# Create  matrix based on word frequency in tweets\n",
        "\n",
        "vectorizer = TfidfVectorizer()\n",
        "\n",
        "X_train = vectorizer.fit_transform(X_train)\n",
        "X_test = vectorizer.transform(X_test)"
      ],
      "execution_count": 24,
      "outputs": []
    },
    {
      "cell_type": "code",
      "metadata": {
        "colab": {
          "base_uri": "https://localhost:8080/"
        },
        "id": "6yrednLkiG33",
        "outputId": "77cab57b-1915-4519-ccd6-38c425de2355"
      },
      "source": [
        "# Print the size of our data\n",
        "\n",
        "print(f'Train size: {X_train.shape[0]} tweets\\n\\\n",
        "Test size: {X_test.shape[0]} tweets\\n\\\n",
        "Amount of words (columns): {X_train.shape[1]} words')"
      ],
      "execution_count": 25,
      "outputs": [
        {
          "output_type": "stream",
          "text": [
            "Train size: 11712 tweets\n",
            "Test size: 2928 tweets\n",
            "Amount of words (columns): 10097 words\n"
          ],
          "name": "stdout"
        }
      ]
    },
    {
      "cell_type": "markdown",
      "metadata": {
        "id": "pzJ2kvXziR6a"
      },
      "source": [
        "Machine learning models using SVM, Bagging, Boostng, RandomForest"
      ]
    },
    {
      "cell_type": "code",
      "metadata": {
        "colab": {
          "base_uri": "https://localhost:8080/"
        },
        "id": "jRK5hRp3lrIh",
        "outputId": "c491af8a-7b3c-43da-fa2b-d9da9fce0b98"
      },
      "source": [
        "from sklearn.metrics import confusion_matrix,accuracy_score\n",
        "from sklearn.tree import DecisionTreeClassifier\n",
        "from sklearn.ensemble import RandomForestClassifier,BaggingClassifier\n",
        "from xgboost import XGBClassifier\n",
        "from sklearn.svm import SVC\n",
        "from sklearn.model_selection import GridSearchCV\n",
        "from datetime import datetime\n",
        "\n",
        "sv = SVC()\n",
        "rf = RandomForestClassifier()\n",
        "\n",
        "param_grid_rf = {\"n_estimators\": [10,20,30],\n",
        "                 \"max_depth\": [2,3,5],\n",
        "                 \"min_samples_leaf\": [2, 4]}\n",
        "\n",
        "param_grid_sv = {'kernel': ['rbf','linear'], \n",
        "                  'gamma': [1e-3, 1e-4],\n",
        "                  'C'    : [1, 10, 100]}\n",
        "\n",
        "classifiers = [['Random_Forest_Tuned : ',GridSearchCV(rf,param_grid=param_grid_rf,cv=5,scoring='accuracy')],\n",
        "               ['Xg_boost : ',XGBClassifier()],\n",
        "               ['Bagging Classifier : ',BaggingClassifier()],\n",
        "               ['Support Vector Machines_Tuned : ',GridSearchCV(sv,param_grid=param_grid_sv,cv=5,scoring='accuracy')]]\n",
        "\n",
        "# class_predictions = []\n",
        "for name,model in classifiers:\n",
        "    model=model\n",
        "    start_time = datetime.now()\n",
        "    model.fit(X_train,y_train)\n",
        "    predictions = model.predict(X_train)\n",
        "    predictions1 = model.predict(X_test)\n",
        "#   class_predictions.append(accuracy_score(y_test,predictions))\n",
        "    print(f'{name}_Train_Accuracy :',accuracy_score(y_train,predictions))\n",
        "    print(f'{name}_Test_Accuracy :',accuracy_score(y_test,predictions1))\n",
        "    end_time = datetime.now()\n",
        "    print('Duration: {}'.format(end_time - start_time))\n",
        "    print('--------------------------------------------------')"
      ],
      "execution_count": 26,
      "outputs": [
        {
          "output_type": "stream",
          "text": [
            "Random_Forest_Tuned : _Train_Accuracy : 0.6223531420765027\n",
            "Random_Forest_Tuned : _Test_Accuracy : 0.6451502732240437\n",
            "Duration: 0:00:09.834065\n",
            "--------------------------------------------------\n",
            "Xg_boost : _Train_Accuracy : 0.7403517759562842\n",
            "Xg_boost : _Test_Accuracy : 0.7438524590163934\n",
            "Duration: 0:00:07.947202\n",
            "--------------------------------------------------\n",
            "Bagging Classifier : _Train_Accuracy : 0.9715676229508197\n",
            "Bagging Classifier : _Test_Accuracy : 0.7363387978142076\n",
            "Duration: 0:00:15.447428\n",
            "--------------------------------------------------\n",
            "Support Vector Machines_Tuned : _Train_Accuracy : 0.8971140710382514\n",
            "Support Vector Machines_Tuned : _Test_Accuracy : 0.7971311475409836\n",
            "Duration: 0:11:48.498393\n",
            "--------------------------------------------------\n"
          ],
          "name": "stdout"
        }
      ]
    },
    {
      "cell_type": "code",
      "metadata": {
        "id": "ucgCBFFhlul7"
      },
      "source": [
        "#onehot encoding  You need to convert to numpy array ..\n",
        "y_train = pd.get_dummies(y_train).to_numpy()\n",
        "y_test = pd.get_dummies(y_test).to_numpy()"
      ],
      "execution_count": 27,
      "outputs": []
    },
    {
      "cell_type": "markdown",
      "metadata": {
        "id": "ivsgL27RuSFF"
      },
      "source": [
        "## Nueral network using Keras"
      ]
    },
    {
      "cell_type": "code",
      "metadata": {
        "id": "MCEKObu4uVt4"
      },
      "source": [
        "from keras.models import Sequential\n",
        "from keras.layers import Dense, Dropout,BatchNormalization\n",
        "from keras.optimizers import SGD\n",
        "model = Sequential()\n",
        "model.add(Dense(64,activation='relu',input_dim=X_train.shape[1]))\n",
        "model.add(Dropout(0.5))\n",
        "model.add(Dense(64, activation='relu'))\n",
        "model.add(Dropout(0.5))\n",
        "model.add(Dense(3, activation='softmax'))\n",
        "sgd = SGD(lr=0.01, decay=1e-6, momentum=0.9, nesterov=True)\n",
        "model.compile(loss='binary_crossentropy',optimizer=sgd,metrics=['accuracy'])"
      ],
      "execution_count": 28,
      "outputs": []
    },
    {
      "cell_type": "code",
      "metadata": {
        "colab": {
          "base_uri": "https://localhost:8080/"
        },
        "id": "JbFc1O_puXBf",
        "outputId": "f530208c-4dfc-4d78-e3db-67312ab589ff"
      },
      "source": [
        "model.summary()"
      ],
      "execution_count": 29,
      "outputs": [
        {
          "output_type": "stream",
          "text": [
            "Model: \"sequential\"\n",
            "_________________________________________________________________\n",
            "Layer (type)                 Output Shape              Param #   \n",
            "=================================================================\n",
            "dense (Dense)                (None, 64)                646272    \n",
            "_________________________________________________________________\n",
            "dropout (Dropout)            (None, 64)                0         \n",
            "_________________________________________________________________\n",
            "dense_1 (Dense)              (None, 64)                4160      \n",
            "_________________________________________________________________\n",
            "dropout_1 (Dropout)          (None, 64)                0         \n",
            "_________________________________________________________________\n",
            "dense_2 (Dense)              (None, 3)                 195       \n",
            "=================================================================\n",
            "Total params: 650,627\n",
            "Trainable params: 650,627\n",
            "Non-trainable params: 0\n",
            "_________________________________________________________________\n"
          ],
          "name": "stdout"
        }
      ]
    },
    {
      "cell_type": "code",
      "metadata": {
        "colab": {
          "base_uri": "https://localhost:8080/"
        },
        "id": "-6SNA8ykufPG",
        "outputId": "59345a67-3300-47e2-a54f-3022b895343b"
      },
      "source": [
        "history = model.fit(X_train,y_train,epochs=30,batch_size=128,validation_data=(X_test, y_test))"
      ],
      "execution_count": 30,
      "outputs": [
        {
          "output_type": "stream",
          "text": [
            "Epoch 1/30\n",
            "92/92 [==============================] - 0s 5ms/step - loss: 0.5623 - accuracy: 0.6176 - val_loss: 0.5269 - val_accuracy: 0.6452\n",
            "Epoch 2/30\n",
            "92/92 [==============================] - 0s 4ms/step - loss: 0.5423 - accuracy: 0.6224 - val_loss: 0.5255 - val_accuracy: 0.6452\n",
            "Epoch 3/30\n",
            "92/92 [==============================] - 0s 4ms/step - loss: 0.5389 - accuracy: 0.6224 - val_loss: 0.5217 - val_accuracy: 0.6452\n",
            "Epoch 4/30\n",
            "92/92 [==============================] - 0s 3ms/step - loss: 0.5359 - accuracy: 0.6224 - val_loss: 0.5172 - val_accuracy: 0.6452\n",
            "Epoch 5/30\n",
            "92/92 [==============================] - 0s 4ms/step - loss: 0.5308 - accuracy: 0.6224 - val_loss: 0.5110 - val_accuracy: 0.6452\n",
            "Epoch 6/30\n",
            "92/92 [==============================] - 0s 3ms/step - loss: 0.5241 - accuracy: 0.6224 - val_loss: 0.5029 - val_accuracy: 0.6452\n",
            "Epoch 7/30\n",
            "92/92 [==============================] - 0s 3ms/step - loss: 0.5163 - accuracy: 0.6224 - val_loss: 0.4926 - val_accuracy: 0.6452\n",
            "Epoch 8/30\n",
            "92/92 [==============================] - 0s 4ms/step - loss: 0.5051 - accuracy: 0.6224 - val_loss: 0.4784 - val_accuracy: 0.6452\n",
            "Epoch 9/30\n",
            "92/92 [==============================] - 0s 3ms/step - loss: 0.4932 - accuracy: 0.6224 - val_loss: 0.4631 - val_accuracy: 0.6452\n",
            "Epoch 10/30\n",
            "92/92 [==============================] - 0s 4ms/step - loss: 0.4789 - accuracy: 0.6244 - val_loss: 0.4463 - val_accuracy: 0.6452\n",
            "Epoch 11/30\n",
            "92/92 [==============================] - 0s 4ms/step - loss: 0.4654 - accuracy: 0.6322 - val_loss: 0.4311 - val_accuracy: 0.6510\n",
            "Epoch 12/30\n",
            "92/92 [==============================] - 0s 3ms/step - loss: 0.4524 - accuracy: 0.6460 - val_loss: 0.4164 - val_accuracy: 0.6639\n",
            "Epoch 13/30\n",
            "92/92 [==============================] - 0s 3ms/step - loss: 0.4390 - accuracy: 0.6599 - val_loss: 0.4048 - val_accuracy: 0.6885\n",
            "Epoch 14/30\n",
            "92/92 [==============================] - 0s 4ms/step - loss: 0.4296 - accuracy: 0.6750 - val_loss: 0.3965 - val_accuracy: 0.7128\n",
            "Epoch 15/30\n",
            "92/92 [==============================] - 0s 3ms/step - loss: 0.4214 - accuracy: 0.6868 - val_loss: 0.3866 - val_accuracy: 0.7189\n",
            "Epoch 16/30\n",
            "92/92 [==============================] - 0s 4ms/step - loss: 0.4114 - accuracy: 0.6954 - val_loss: 0.3802 - val_accuracy: 0.7452\n",
            "Epoch 17/30\n",
            "92/92 [==============================] - 0s 4ms/step - loss: 0.4025 - accuracy: 0.7026 - val_loss: 0.3732 - val_accuracy: 0.7476\n",
            "Epoch 18/30\n",
            "92/92 [==============================] - 0s 4ms/step - loss: 0.3950 - accuracy: 0.7160 - val_loss: 0.3675 - val_accuracy: 0.7520\n",
            "Epoch 19/30\n",
            "92/92 [==============================] - 0s 3ms/step - loss: 0.3860 - accuracy: 0.7245 - val_loss: 0.3628 - val_accuracy: 0.7688\n",
            "Epoch 20/30\n",
            "92/92 [==============================] - 0s 4ms/step - loss: 0.3803 - accuracy: 0.7322 - val_loss: 0.3595 - val_accuracy: 0.7715\n",
            "Epoch 21/30\n",
            "92/92 [==============================] - 0s 3ms/step - loss: 0.3741 - accuracy: 0.7360 - val_loss: 0.3571 - val_accuracy: 0.7715\n",
            "Epoch 22/30\n",
            "92/92 [==============================] - 0s 4ms/step - loss: 0.3665 - accuracy: 0.7507 - val_loss: 0.3528 - val_accuracy: 0.7783\n",
            "Epoch 23/30\n",
            "92/92 [==============================] - 0s 4ms/step - loss: 0.3615 - accuracy: 0.7601 - val_loss: 0.3489 - val_accuracy: 0.7811\n",
            "Epoch 24/30\n",
            "92/92 [==============================] - 0s 4ms/step - loss: 0.3564 - accuracy: 0.7608 - val_loss: 0.3462 - val_accuracy: 0.7787\n",
            "Epoch 25/30\n",
            "92/92 [==============================] - 0s 4ms/step - loss: 0.3479 - accuracy: 0.7696 - val_loss: 0.3445 - val_accuracy: 0.7804\n",
            "Epoch 26/30\n",
            "92/92 [==============================] - 0s 4ms/step - loss: 0.3432 - accuracy: 0.7760 - val_loss: 0.3413 - val_accuracy: 0.7801\n",
            "Epoch 27/30\n",
            "92/92 [==============================] - 0s 4ms/step - loss: 0.3393 - accuracy: 0.7792 - val_loss: 0.3382 - val_accuracy: 0.7896\n",
            "Epoch 28/30\n",
            "92/92 [==============================] - 0s 4ms/step - loss: 0.3299 - accuracy: 0.7883 - val_loss: 0.3361 - val_accuracy: 0.7869\n",
            "Epoch 29/30\n",
            "92/92 [==============================] - 0s 4ms/step - loss: 0.3265 - accuracy: 0.7887 - val_loss: 0.3358 - val_accuracy: 0.7889\n",
            "Epoch 30/30\n",
            "92/92 [==============================] - 0s 4ms/step - loss: 0.3230 - accuracy: 0.7956 - val_loss: 0.3329 - val_accuracy: 0.7930\n"
          ],
          "name": "stdout"
        }
      ]
    },
    {
      "cell_type": "code",
      "metadata": {
        "colab": {
          "base_uri": "https://localhost:8080/",
          "height": 312
        },
        "id": "Whd8X1hyulGd",
        "outputId": "bc5bfd96-257b-4b9e-9e4f-6dd9c58234b6"
      },
      "source": [
        "\n",
        "plt.plot(history.history[\"accuracy\"])\n",
        "plt.plot(history.history[\"val_accuracy\"])\n",
        "plt.title(\"model accuracy\")\n",
        "plt.ylabel(\"accuracy\")\n",
        "plt.xlabel(\"epoch\")\n",
        "plt.legend([\"train\", \"test\"], loc = \"upper left\")\n",
        "plt.show"
      ],
      "execution_count": 31,
      "outputs": [
        {
          "output_type": "execute_result",
          "data": {
            "text/plain": [
              "<function matplotlib.pyplot.show>"
            ]
          },
          "metadata": {
            "tags": []
          },
          "execution_count": 31
        },
        {
          "output_type": "display_data",
          "data": {
            "image/png": "[encoded data removed]",
            "text/plain": [
              "<Figure size 432x288 with 1 Axes>"
            ]
          },
          "metadata": {
            "tags": [],
            "needs_background": "light"
          }
        }
      ]
    },
    {
      "cell_type": "markdown",
      "metadata": {
        "id": "xt1RCW0j5a1H"
      },
      "source": [
        "Sequential Model for Nueral network is almost similarly accurate as SVM when using TfidfVectorizer"
      ]
    },
    {
      "cell_type": "markdown",
      "metadata": {
        "id": "c6w_aSWG5s5N"
      },
      "source": [
        "## Lets try to use CountVectorizer now "
      ]
    },
    {
      "cell_type": "code",
      "metadata": {
        "colab": {
          "base_uri": "https://localhost:8080/"
        },
        "id": "XY3ITFPz5yt8",
        "outputId": "208ef10a-74f2-4c64-8418-904c9bc40921"
      },
      "source": [
        "X_cv = df_feature[\"cleaned_text\"]\n",
        "y_cv = df_feature[\"airline_sentiment\"]\n",
        "\n",
        "print(X_cv.shape)\n",
        "print(y_cv.shape)\n",
        "\n"
      ],
      "execution_count": 32,
      "outputs": [
        {
          "output_type": "stream",
          "text": [
            "(14640,)\n",
            "(14640,)\n"
          ],
          "name": "stdout"
        }
      ]
    },
    {
      "cell_type": "code",
      "metadata": {
        "id": "jQYwC9VOCSfb"
      },
      "source": [
        "# Split 80:20\n",
        "X_train,X_test, y_train, y_test = train_test_split(X_cv, y_cv, test_size=0.2,random_state=42)"
      ],
      "execution_count": 33,
      "outputs": []
    },
    {
      "cell_type": "code",
      "metadata": {
        "id": "gQXNnsQiCecH"
      },
      "source": [
        "# Create  matrix based on word frequency in tweets\n",
        "\n",
        "vectorizer = CountVectorizer()\n",
        "\n",
        "X_train = vectorizer.fit_transform(X_train)\n",
        "X_test = vectorizer.transform(X_test)"
      ],
      "execution_count": 34,
      "outputs": []
    },
    {
      "cell_type": "code",
      "metadata": {
        "colab": {
          "base_uri": "https://localhost:8080/"
        },
        "id": "G2iZGxg7CtZ0",
        "outputId": "ed452eb3-1c0c-498e-e1f8-b908f04c8681"
      },
      "source": [
        "# Print the size of our data\n",
        "\n",
        "print(f'Train size: {X_train.shape[0]} tweets\\n\\\n",
        "Test size: {X_test.shape[0]} tweets\\n\\\n",
        "Amount of words (columns): {X_train.shape[1]} words')"
      ],
      "execution_count": 35,
      "outputs": [
        {
          "output_type": "stream",
          "text": [
            "Train size: 11712 tweets\n",
            "Test size: 2928 tweets\n",
            "Amount of words (columns): 10097 words\n"
          ],
          "name": "stdout"
        }
      ]
    },
    {
      "cell_type": "markdown",
      "metadata": {
        "id": "6tUqdQ7UFVw2"
      },
      "source": [
        "Machine learning models .."
      ]
    },
    {
      "cell_type": "code",
      "metadata": {
        "colab": {
          "base_uri": "https://localhost:8080/"
        },
        "id": "dJJg9hn-FX9M",
        "outputId": "0370e922-9a71-4a7b-8e01-5ef1f9a62343"
      },
      "source": [
        "sv = SVC()\n",
        "rf = RandomForestClassifier()\n",
        "\n",
        "param_grid_rf = {\"n_estimators\": [10,20,30],\n",
        "                 \"max_depth\": [2,3,5],\n",
        "                 \"min_samples_leaf\": [2, 4]}\n",
        "\n",
        "param_grid_sv = {'kernel': ['rbf','linear'], \n",
        "                  'gamma': [1e-3, 1e-4],\n",
        "                  'C'    : [1, 10, 100]}\n",
        "\n",
        "classifiers = [['Random_Forest_Tuned : ',GridSearchCV(rf,param_grid=param_grid_rf,cv=5,scoring='accuracy')],\n",
        "               ['Xg_boost : ',XGBClassifier()],\n",
        "               ['Bagging Classifier : ',BaggingClassifier()],\n",
        "               ['Support Vector Machines_Tuned : ',GridSearchCV(sv,param_grid=param_grid_sv,cv=5,scoring='accuracy')]]\n",
        "\n",
        "# class_predictions = []\n",
        "for name,model in classifiers:\n",
        "    model=model\n",
        "    start_time = datetime.now()\n",
        "    model.fit(X_train,y_train)\n",
        "    predictions = model.predict(X_train)\n",
        "    predictions1 = model.predict(X_test)\n",
        "#   class_predictions.append(accuracy_score(y_test,predictions))\n",
        "    print(f'{name}_Train_Accuracy :',accuracy_score(y_train,predictions))\n",
        "    print(f'{name}_Test_Accuracy :',accuracy_score(y_test,predictions1))\n",
        "    end_time = datetime.now()\n",
        "    print('Duration: {}'.format(end_time - start_time))\n",
        "    print('--------------------------------------------------')"
      ],
      "execution_count": 36,
      "outputs": [
        {
          "output_type": "stream",
          "text": [
            "Random_Forest_Tuned : _Train_Accuracy : 0.6223531420765027\n",
            "Random_Forest_Tuned : _Test_Accuracy : 0.6451502732240437\n",
            "Duration: 0:00:09.414796\n",
            "--------------------------------------------------\n",
            "Xg_boost : _Train_Accuracy : 0.7253244535519126\n",
            "Xg_boost : _Test_Accuracy : 0.7370218579234973\n",
            "Duration: 0:00:04.495250\n",
            "--------------------------------------------------\n",
            "Bagging Classifier : _Train_Accuracy : 0.9736168032786885\n",
            "Bagging Classifier : _Test_Accuracy : 0.7503415300546448\n",
            "Duration: 0:00:12.179922\n",
            "--------------------------------------------------\n",
            "Support Vector Machines_Tuned : _Train_Accuracy : 0.8911372950819673\n",
            "Support Vector Machines_Tuned : _Test_Accuracy : 0.7995218579234973\n",
            "Duration: 0:15:10.839023\n",
            "--------------------------------------------------\n"
          ],
          "name": "stdout"
        }
      ]
    },
    {
      "cell_type": "code",
      "metadata": {
        "id": "T7XJyvigop9R"
      },
      "source": [
        "#onehot encoding  You need to convert to numpy array ..\n",
        "y_train = pd.get_dummies(y_train).to_numpy()\n",
        "y_test = pd.get_dummies(y_test).to_numpy()"
      ],
      "execution_count": 37,
      "outputs": []
    },
    {
      "cell_type": "markdown",
      "metadata": {
        "id": "kFu3yViJyGKB"
      },
      "source": [
        "Nueral network using Keras..."
      ]
    },
    {
      "cell_type": "code",
      "metadata": {
        "id": "Bjd8DZGCowCN"
      },
      "source": [
        "from keras.models import Sequential\n",
        "from keras.layers import Dense, Dropout,BatchNormalization\n",
        "from keras.optimizers import SGD\n",
        "model = Sequential()\n",
        "model.add(Dense(64,activation='relu',input_dim=X_train.shape[1]))\n",
        "model.add(Dropout(0.5))\n",
        "model.add(Dense(64, activation='relu'))\n",
        "model.add(Dropout(0.5))\n",
        "model.add(Dense(3, activation='softmax'))\n",
        "sgd = SGD(lr=0.01, decay=1e-6, momentum=0.9, nesterov=True)\n",
        "model.compile(loss='binary_crossentropy',optimizer=sgd,metrics=['accuracy'])"
      ],
      "execution_count": 39,
      "outputs": []
    },
    {
      "cell_type": "code",
      "metadata": {
        "colab": {
          "base_uri": "https://localhost:8080/"
        },
        "id": "UdGn5oMqyR0S",
        "outputId": "141f55e1-a95c-4fbf-fe39-26319ca07ce0"
      },
      "source": [
        "model.summary()"
      ],
      "execution_count": 40,
      "outputs": [
        {
          "output_type": "stream",
          "text": [
            "Model: \"sequential_2\"\n",
            "_________________________________________________________________\n",
            "Layer (type)                 Output Shape              Param #   \n",
            "=================================================================\n",
            "dense_6 (Dense)              (None, 64)                646272    \n",
            "_________________________________________________________________\n",
            "dropout_4 (Dropout)          (None, 64)                0         \n",
            "_________________________________________________________________\n",
            "dense_7 (Dense)              (None, 64)                4160      \n",
            "_________________________________________________________________\n",
            "dropout_5 (Dropout)          (None, 64)                0         \n",
            "_________________________________________________________________\n",
            "dense_8 (Dense)              (None, 3)                 195       \n",
            "=================================================================\n",
            "Total params: 650,627\n",
            "Trainable params: 650,627\n",
            "Non-trainable params: 0\n",
            "_________________________________________________________________\n"
          ],
          "name": "stdout"
        }
      ]
    },
    {
      "cell_type": "code",
      "metadata": {
        "colab": {
          "base_uri": "https://localhost:8080/"
        },
        "id": "mXqILgahySWi",
        "outputId": "191f539e-111d-4c58-bdb3-c9a3875e9b1e"
      },
      "source": [
        "history_cv = model.fit(X_train,y_train,epochs=30,batch_size=128,validation_data=(X_test, y_test))"
      ],
      "execution_count": 41,
      "outputs": [
        {
          "output_type": "stream",
          "text": [
            "Epoch 1/30\n",
            "92/92 [==============================] - 0s 5ms/step - loss: 0.5572 - accuracy: 0.6033 - val_loss: 0.5083 - val_accuracy: 0.6452\n",
            "Epoch 2/30\n",
            "92/92 [==============================] - 0s 3ms/step - loss: 0.5138 - accuracy: 0.6224 - val_loss: 0.4766 - val_accuracy: 0.6452\n",
            "Epoch 3/30\n",
            "92/92 [==============================] - 0s 4ms/step - loss: 0.4851 - accuracy: 0.6224 - val_loss: 0.4443 - val_accuracy: 0.6452\n",
            "Epoch 4/30\n",
            "92/92 [==============================] - 0s 4ms/step - loss: 0.4585 - accuracy: 0.6251 - val_loss: 0.4184 - val_accuracy: 0.6469\n",
            "Epoch 5/30\n",
            "92/92 [==============================] - 0s 3ms/step - loss: 0.4355 - accuracy: 0.6549 - val_loss: 0.3962 - val_accuracy: 0.7210\n",
            "Epoch 6/30\n",
            "92/92 [==============================] - 0s 3ms/step - loss: 0.4166 - accuracy: 0.6964 - val_loss: 0.3807 - val_accuracy: 0.7462\n",
            "Epoch 7/30\n",
            "92/92 [==============================] - 0s 4ms/step - loss: 0.4020 - accuracy: 0.7214 - val_loss: 0.3659 - val_accuracy: 0.7568\n",
            "Epoch 8/30\n",
            "92/92 [==============================] - 0s 3ms/step - loss: 0.3884 - accuracy: 0.7351 - val_loss: 0.3570 - val_accuracy: 0.7705\n",
            "Epoch 9/30\n",
            "92/92 [==============================] - 0s 4ms/step - loss: 0.3763 - accuracy: 0.7542 - val_loss: 0.3473 - val_accuracy: 0.7702\n",
            "Epoch 10/30\n",
            "92/92 [==============================] - 0s 4ms/step - loss: 0.3617 - accuracy: 0.7670 - val_loss: 0.3429 - val_accuracy: 0.7886\n",
            "Epoch 11/30\n",
            "92/92 [==============================] - 0s 4ms/step - loss: 0.3563 - accuracy: 0.7728 - val_loss: 0.3339 - val_accuracy: 0.7893\n",
            "Epoch 12/30\n",
            "92/92 [==============================] - 0s 4ms/step - loss: 0.3422 - accuracy: 0.7830 - val_loss: 0.3282 - val_accuracy: 0.7961\n",
            "Epoch 13/30\n",
            "92/92 [==============================] - 0s 4ms/step - loss: 0.3351 - accuracy: 0.7894 - val_loss: 0.3235 - val_accuracy: 0.7988\n",
            "Epoch 14/30\n",
            "92/92 [==============================] - 0s 3ms/step - loss: 0.3253 - accuracy: 0.8004 - val_loss: 0.3192 - val_accuracy: 0.8026\n",
            "Epoch 15/30\n",
            "92/92 [==============================] - 0s 4ms/step - loss: 0.3142 - accuracy: 0.8034 - val_loss: 0.3172 - val_accuracy: 0.7999\n",
            "Epoch 16/30\n",
            "92/92 [==============================] - 0s 4ms/step - loss: 0.3088 - accuracy: 0.8085 - val_loss: 0.3150 - val_accuracy: 0.8033\n",
            "Epoch 17/30\n",
            "92/92 [==============================] - 0s 4ms/step - loss: 0.2991 - accuracy: 0.8134 - val_loss: 0.3126 - val_accuracy: 0.8053\n",
            "Epoch 18/30\n",
            "92/92 [==============================] - 0s 4ms/step - loss: 0.2913 - accuracy: 0.8251 - val_loss: 0.3131 - val_accuracy: 0.8026\n",
            "Epoch 19/30\n",
            "92/92 [==============================] - 0s 4ms/step - loss: 0.2857 - accuracy: 0.8314 - val_loss: 0.3112 - val_accuracy: 0.8029\n",
            "Epoch 20/30\n",
            "92/92 [==============================] - 0s 4ms/step - loss: 0.2759 - accuracy: 0.8340 - val_loss: 0.3093 - val_accuracy: 0.8050\n",
            "Epoch 21/30\n",
            "92/92 [==============================] - 0s 4ms/step - loss: 0.2711 - accuracy: 0.8355 - val_loss: 0.3096 - val_accuracy: 0.8087\n",
            "Epoch 22/30\n",
            "92/92 [==============================] - 0s 4ms/step - loss: 0.2643 - accuracy: 0.8379 - val_loss: 0.3096 - val_accuracy: 0.8033\n",
            "Epoch 23/30\n",
            "92/92 [==============================] - 0s 4ms/step - loss: 0.2562 - accuracy: 0.8478 - val_loss: 0.3128 - val_accuracy: 0.8060\n",
            "Epoch 24/30\n",
            "92/92 [==============================] - 0s 4ms/step - loss: 0.2502 - accuracy: 0.8513 - val_loss: 0.3125 - val_accuracy: 0.8050\n",
            "Epoch 25/30\n",
            "92/92 [==============================] - 0s 4ms/step - loss: 0.2405 - accuracy: 0.8631 - val_loss: 0.3126 - val_accuracy: 0.8064\n",
            "Epoch 26/30\n",
            "92/92 [==============================] - 0s 4ms/step - loss: 0.2369 - accuracy: 0.8626 - val_loss: 0.3139 - val_accuracy: 0.8016\n",
            "Epoch 27/30\n",
            "92/92 [==============================] - 0s 4ms/step - loss: 0.2275 - accuracy: 0.8700 - val_loss: 0.3168 - val_accuracy: 0.8077\n",
            "Epoch 28/30\n",
            "92/92 [==============================] - 0s 4ms/step - loss: 0.2222 - accuracy: 0.8702 - val_loss: 0.3197 - val_accuracy: 0.8077\n",
            "Epoch 29/30\n",
            "92/92 [==============================] - 0s 4ms/step - loss: 0.2142 - accuracy: 0.8814 - val_loss: 0.3228 - val_accuracy: 0.8057\n",
            "Epoch 30/30\n",
            "92/92 [==============================] - 0s 4ms/step - loss: 0.2097 - accuracy: 0.8824 - val_loss: 0.3179 - val_accuracy: 0.8053\n"
          ],
          "name": "stdout"
        }
      ]
    },
    {
      "cell_type": "code",
      "metadata": {
        "colab": {
          "base_uri": "https://localhost:8080/",
          "height": 312
        },
        "id": "TThmqsgeyclP",
        "outputId": "3a004857-3055-4edb-f11d-d1ca2025f4f5"
      },
      "source": [
        "plt.plot(history_cv.history[\"accuracy\"])\n",
        "plt.plot(history_cv.history_cv[\"val_accuracy\"])\n",
        "plt.title(\"model accuracy\")\n",
        "plt.ylabel(\"accuracy\")\n",
        "plt.xlabel(\"epoch\")\n",
        "plt.legend([\"train\", \"test\"], loc = \"upper left\")\n",
        "plt.show"
      ],
      "execution_count": 43,
      "outputs": [
        {
          "output_type": "execute_result",
          "data": {
            "text/plain": [
              "<function matplotlib.pyplot.show>"
            ]
          },
          "metadata": {
            "tags": []
          },
          "execution_count": 43
        },
        {
          "output_type": "display_data",
          "data": {
            "image/png": "[encoded data removed]",
            "text/plain": [
              "<Figure size 432x288 with 1 Axes>"
            ]
          },
          "metadata": {
            "tags": [],
            "needs_background": "light"
          }
        }
      ]
    },
    {
      "cell_type": "markdown",
      "metadata": {
        "id": "TfWFA8oKzUxC"
      },
      "source": [
        "# Summary\n",
        "\n",
        "\n",
        "\n",
        "1.   SVM has almost same test accuracy for CountVectorizer and TfidfVectorizer.\n",
        "2.   CountVectorizer using Sequential Nueral network has better Accuracy for the same model using TfidfVectorizer.\n",
        "\n",
        "\n",
        "About ~60 percent sentiment is negative.\n",
        "\n",
        "\n"
      ]
    },
    {
      "cell_type": "code",
      "metadata": {
        "id": "uZtOaGoCzWbx"
      },
      "source": [
        "\n"
      ],
      "execution_count": 45,
      "outputs": []
    },
    {
      "cell_type": "code",
      "metadata": {
        "id": "3PYU2Vld19VJ"
      },
      "source": [
        ""
      ],
      "execution_count": null,
      "outputs": []
    }
  ]
}